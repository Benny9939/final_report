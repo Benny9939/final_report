{
 "cells": [
  {
   "cell_type": "code",
   "execution_count": 4,
   "id": "3e4c42eb-3286-49dc-b67d-f570a5870582",
   "metadata": {},
   "outputs": [
    {
     "name": "stdout",
     "output_type": "stream",
     "text": [
      "Requirement already satisfied: scikit-learn in c:\\users\\benny tzou\\anacode\\envs\\lecture\\lib\\site-packages (1.5.0)\n",
      "Requirement already satisfied: numpy in c:\\users\\benny tzou\\anacode\\envs\\lecture\\lib\\site-packages (1.26.4)\n",
      "Requirement already satisfied: pandas in c:\\users\\benny tzou\\anacode\\envs\\lecture\\lib\\site-packages (2.2.1)\n",
      "Requirement already satisfied: matplotlib in c:\\users\\benny tzou\\anacode\\envs\\lecture\\lib\\site-packages (3.8.0)\n",
      "Requirement already satisfied: tensorflow in c:\\users\\benny tzou\\anacode\\envs\\lecture\\lib\\site-packages (2.10.0)\n",
      "Requirement already satisfied: scipy>=1.6.0 in c:\\users\\benny tzou\\anacode\\envs\\lecture\\lib\\site-packages (from scikit-learn) (1.11.4)\n",
      "Requirement already satisfied: joblib>=1.2.0 in c:\\users\\benny tzou\\anacode\\envs\\lecture\\lib\\site-packages (from scikit-learn) (1.4.0)\n",
      "Requirement already satisfied: threadpoolctl>=3.1.0 in c:\\users\\benny tzou\\anacode\\envs\\lecture\\lib\\site-packages (from scikit-learn) (3.4.0)\n",
      "Requirement already satisfied: python-dateutil>=2.8.2 in c:\\users\\benny tzou\\anacode\\envs\\lecture\\lib\\site-packages (from pandas) (2.8.2)\n",
      "Requirement already satisfied: pytz>=2020.1 in c:\\users\\benny tzou\\anacode\\envs\\lecture\\lib\\site-packages (from pandas) (2023.3.post1)\n",
      "Requirement already satisfied: tzdata>=2022.7 in c:\\users\\benny tzou\\anacode\\envs\\lecture\\lib\\site-packages (from pandas) (2023.3)\n",
      "Requirement already satisfied: contourpy>=1.0.1 in c:\\users\\benny tzou\\anacode\\envs\\lecture\\lib\\site-packages (from matplotlib) (1.2.0)\n",
      "Requirement already satisfied: cycler>=0.10 in c:\\users\\benny tzou\\anacode\\envs\\lecture\\lib\\site-packages (from matplotlib) (0.11.0)\n",
      "Requirement already satisfied: fonttools>=4.22.0 in c:\\users\\benny tzou\\anacode\\envs\\lecture\\lib\\site-packages (from matplotlib) (4.25.0)\n",
      "Requirement already satisfied: kiwisolver>=1.0.1 in c:\\users\\benny tzou\\anacode\\envs\\lecture\\lib\\site-packages (from matplotlib) (1.4.4)\n",
      "Requirement already satisfied: packaging>=20.0 in c:\\users\\benny tzou\\anacode\\envs\\lecture\\lib\\site-packages (from matplotlib) (23.1)\n",
      "Requirement already satisfied: pillow>=6.2.0 in c:\\users\\benny tzou\\anacode\\envs\\lecture\\lib\\site-packages (from matplotlib) (10.2.0)\n",
      "Requirement already satisfied: pyparsing>=2.3.1 in c:\\users\\benny tzou\\anacode\\envs\\lecture\\lib\\site-packages (from matplotlib) (3.0.9)\n",
      "Requirement already satisfied: importlib-resources>=3.2.0 in c:\\users\\benny tzou\\anacode\\envs\\lecture\\lib\\site-packages (from matplotlib) (6.1.1)\n",
      "Requirement already satisfied: absl-py>=1.0.0 in c:\\users\\benny tzou\\anacode\\envs\\lecture\\lib\\site-packages (from tensorflow) (1.4.0)\n",
      "Requirement already satisfied: astunparse>=1.6.0 in c:\\users\\benny tzou\\anacode\\envs\\lecture\\lib\\site-packages (from tensorflow) (1.6.3)\n",
      "Requirement already satisfied: flatbuffers>=2.0 in c:\\users\\benny tzou\\anacode\\envs\\lecture\\lib\\site-packages (from tensorflow) (2.0)\n",
      "Requirement already satisfied: gast<=0.4.0,>=0.2.1 in c:\\users\\benny tzou\\anacode\\envs\\lecture\\lib\\site-packages (from tensorflow) (0.4.0)\n",
      "Requirement already satisfied: google-pasta>=0.1.1 in c:\\users\\benny tzou\\anacode\\envs\\lecture\\lib\\site-packages (from tensorflow) (0.2.0)\n",
      "Requirement already satisfied: h5py>=2.9.0 in c:\\users\\benny tzou\\anacode\\envs\\lecture\\lib\\site-packages (from tensorflow) (3.9.0)\n",
      "Requirement already satisfied: keras-preprocessing>=1.1.1 in c:\\users\\benny tzou\\anacode\\envs\\lecture\\lib\\site-packages (from tensorflow) (1.1.2)\n",
      "Requirement already satisfied: libclang>=13.0.0 in c:\\users\\benny tzou\\anacode\\envs\\lecture\\lib\\site-packages (from tensorflow) (18.1.1)\n",
      "Requirement already satisfied: opt-einsum>=2.3.2 in c:\\users\\benny tzou\\anacode\\envs\\lecture\\lib\\site-packages (from tensorflow) (3.3.0)\n",
      "Requirement already satisfied: protobuf<3.20,>=3.9.2 in c:\\users\\benny tzou\\anacode\\envs\\lecture\\lib\\site-packages (from tensorflow) (3.19.6)\n",
      "Requirement already satisfied: setuptools in c:\\users\\benny tzou\\anacode\\envs\\lecture\\lib\\site-packages (from tensorflow) (68.2.2)\n",
      "Requirement already satisfied: six>=1.12.0 in c:\\users\\benny tzou\\anacode\\envs\\lecture\\lib\\site-packages (from tensorflow) (1.16.0)\n",
      "Requirement already satisfied: termcolor>=1.1.0 in c:\\users\\benny tzou\\anacode\\envs\\lecture\\lib\\site-packages (from tensorflow) (2.1.0)\n",
      "Requirement already satisfied: typing-extensions>=3.6.6 in c:\\users\\benny tzou\\anacode\\envs\\lecture\\lib\\site-packages (from tensorflow) (4.9.0)\n",
      "Requirement already satisfied: wrapt>=1.11.0 in c:\\users\\benny tzou\\anacode\\envs\\lecture\\lib\\site-packages (from tensorflow) (1.14.1)\n",
      "Requirement already satisfied: tensorflow-io-gcs-filesystem>=0.23.1 in c:\\users\\benny tzou\\anacode\\envs\\lecture\\lib\\site-packages (from tensorflow) (0.31.0)\n",
      "Requirement already satisfied: grpcio<2.0,>=1.24.3 in c:\\users\\benny tzou\\anacode\\envs\\lecture\\lib\\site-packages (from tensorflow) (1.42.0)\n",
      "Requirement already satisfied: tensorboard<2.11,>=2.10 in c:\\users\\benny tzou\\anacode\\envs\\lecture\\lib\\site-packages (from tensorflow) (2.10.0)\n",
      "Requirement already satisfied: tensorflow-estimator<2.11,>=2.10.0 in c:\\users\\benny tzou\\anacode\\envs\\lecture\\lib\\site-packages (from tensorflow) (2.10.0)\n",
      "Requirement already satisfied: keras<2.11,>=2.10.0 in c:\\users\\benny tzou\\anacode\\envs\\lecture\\lib\\site-packages (from tensorflow) (2.10.0)\n",
      "Requirement already satisfied: wheel<1.0,>=0.23.0 in c:\\users\\benny tzou\\anacode\\envs\\lecture\\lib\\site-packages (from astunparse>=1.6.0->tensorflow) (0.41.2)\n",
      "Requirement already satisfied: zipp>=3.1.0 in c:\\users\\benny tzou\\anacode\\envs\\lecture\\lib\\site-packages (from importlib-resources>=3.2.0->matplotlib) (3.17.0)\n",
      "Requirement already satisfied: google-auth<3,>=1.6.3 in c:\\users\\benny tzou\\anacode\\envs\\lecture\\lib\\site-packages (from tensorboard<2.11,>=2.10->tensorflow) (2.6.0)\n",
      "Requirement already satisfied: google-auth-oauthlib<0.5,>=0.4.1 in c:\\users\\benny tzou\\anacode\\envs\\lecture\\lib\\site-packages (from tensorboard<2.11,>=2.10->tensorflow) (0.4.4)\n",
      "Requirement already satisfied: markdown>=2.6.8 in c:\\users\\benny tzou\\anacode\\envs\\lecture\\lib\\site-packages (from tensorboard<2.11,>=2.10->tensorflow) (3.4.1)\n",
      "Requirement already satisfied: requests<3,>=2.21.0 in c:\\users\\benny tzou\\anacode\\envs\\lecture\\lib\\site-packages (from tensorboard<2.11,>=2.10->tensorflow) (2.31.0)\n",
      "Requirement already satisfied: tensorboard-data-server<0.7.0,>=0.6.0 in c:\\users\\benny tzou\\anacode\\envs\\lecture\\lib\\site-packages (from tensorboard<2.11,>=2.10->tensorflow) (0.6.1)\n",
      "Requirement already satisfied: tensorboard-plugin-wit>=1.6.0 in c:\\users\\benny tzou\\anacode\\envs\\lecture\\lib\\site-packages (from tensorboard<2.11,>=2.10->tensorflow) (1.8.1)\n",
      "Requirement already satisfied: werkzeug>=1.0.1 in c:\\users\\benny tzou\\anacode\\envs\\lecture\\lib\\site-packages (from tensorboard<2.11,>=2.10->tensorflow) (2.3.8)\n",
      "Requirement already satisfied: cachetools<6.0,>=2.0.0 in c:\\users\\benny tzou\\anacode\\envs\\lecture\\lib\\site-packages (from google-auth<3,>=1.6.3->tensorboard<2.11,>=2.10->tensorflow) (4.2.2)\n",
      "Requirement already satisfied: pyasn1-modules>=0.2.1 in c:\\users\\benny tzou\\anacode\\envs\\lecture\\lib\\site-packages (from google-auth<3,>=1.6.3->tensorboard<2.11,>=2.10->tensorflow) (0.2.8)\n",
      "Requirement already satisfied: rsa<5,>=3.1.4 in c:\\users\\benny tzou\\anacode\\envs\\lecture\\lib\\site-packages (from google-auth<3,>=1.6.3->tensorboard<2.11,>=2.10->tensorflow) (4.7.2)\n",
      "Requirement already satisfied: requests-oauthlib>=0.7.0 in c:\\users\\benny tzou\\anacode\\envs\\lecture\\lib\\site-packages (from google-auth-oauthlib<0.5,>=0.4.1->tensorboard<2.11,>=2.10->tensorflow) (1.3.0)\n",
      "Requirement already satisfied: importlib-metadata>=4.4 in c:\\users\\benny tzou\\anacode\\envs\\lecture\\lib\\site-packages (from markdown>=2.6.8->tensorboard<2.11,>=2.10->tensorflow) (7.0.1)\n",
      "Requirement already satisfied: charset-normalizer<4,>=2 in c:\\users\\benny tzou\\anacode\\envs\\lecture\\lib\\site-packages (from requests<3,>=2.21.0->tensorboard<2.11,>=2.10->tensorflow) (2.0.4)\n",
      "Requirement already satisfied: idna<4,>=2.5 in c:\\users\\benny tzou\\anacode\\envs\\lecture\\lib\\site-packages (from requests<3,>=2.21.0->tensorboard<2.11,>=2.10->tensorflow) (3.4)\n",
      "Requirement already satisfied: urllib3<3,>=1.21.1 in c:\\users\\benny tzou\\anacode\\envs\\lecture\\lib\\site-packages (from requests<3,>=2.21.0->tensorboard<2.11,>=2.10->tensorflow) (2.1.0)\n",
      "Requirement already satisfied: certifi>=2017.4.17 in c:\\users\\benny tzou\\anacode\\envs\\lecture\\lib\\site-packages (from requests<3,>=2.21.0->tensorboard<2.11,>=2.10->tensorflow) (2024.2.2)\n",
      "Requirement already satisfied: MarkupSafe>=2.1.1 in c:\\users\\benny tzou\\anacode\\envs\\lecture\\lib\\site-packages (from werkzeug>=1.0.1->tensorboard<2.11,>=2.10->tensorflow) (2.1.3)\n",
      "Requirement already satisfied: pyasn1<0.5.0,>=0.4.6 in c:\\users\\benny tzou\\anacode\\envs\\lecture\\lib\\site-packages (from pyasn1-modules>=0.2.1->google-auth<3,>=1.6.3->tensorboard<2.11,>=2.10->tensorflow) (0.4.8)\n",
      "Requirement already satisfied: oauthlib>=3.0.0 in c:\\users\\benny tzou\\anacode\\envs\\lecture\\lib\\site-packages (from requests-oauthlib>=0.7.0->google-auth-oauthlib<0.5,>=0.4.1->tensorboard<2.11,>=2.10->tensorflow) (3.2.2)\n"
     ]
    }
   ],
   "source": [
    "!pip install scikit-learn numpy pandas matplotlib tensorflow"
   ]
  },
  {
   "cell_type": "code",
   "execution_count": 7,
   "id": "549cb0a8-b28a-415e-8f5e-6c13068f1d65",
   "metadata": {},
   "outputs": [],
   "source": [
    "import numpy as np\n",
    "import pandas as pd\n",
    "import matplotlib\n",
    "import tensorflow as tf\n",
    "model = tf.keras.models.load_model('ANN_DCBL.h5')"
   ]
  },
  {
   "cell_type": "code",
   "execution_count": 8,
   "id": "bf819420-a150-41f6-ad1a-d78558dabcdd",
   "metadata": {},
   "outputs": [
    {
     "name": "stdin",
     "output_type": "stream",
     "text": [
      "type('1' for centrifugal, '2' for hybrid)： 1\n",
      "inlet_angle（degree）： 34\n",
      "outlet_angle（degree）： 13\n",
      "rotating_angle（degree）： 64\n",
      "thickness (mm)： 2.5\n",
      "slices： 6\n",
      "gap (mm)： 0.3\n",
      "flow (L/min)： 50\n"
     ]
    },
    {
     "name": "stdout",
     "output_type": "stream",
     "text": [
      "1/1 [==============================] - 0s 58ms/step\n",
      "(1)predict_range(m):  7.94852152418808\n",
      "(2)predict_power(w):  199.2432950115677\n"
     ]
    }
   ],
   "source": [
    "#showing the predicting consequence\n",
    "\n",
    "output_path = './期末參數資料(綜合_去極端_流量).csv'\n",
    "df = pd.read_csv(output_path)\n",
    "\n",
    "data = df[['形式','入水口角度','出水口角度','旋轉角度','葉厚','片數','間隙(葉輪與幫浦腳)','Q(全開流量)']].values\n",
    "value = df[['揚程','W(瓦數)']].values  \n",
    "\n",
    "data_mean = np.mean(data, axis=0)\n",
    "data_std = np.std(data, axis=0)\n",
    "value_mean = np.mean(value, axis=0)\n",
    "value_std = np.std(value, axis=0)\n",
    "\n",
    "type_input = float(input(\"type('1' for centrifugal, '2' for hybrid)：\"))\n",
    "inlet_angle_input = float(input(\"inlet_angle（degree）：\"))\n",
    "outlet_angle_input = float(input(\"outlet_angle（degree）：\"))\n",
    "rotating_angle_input = float(input(\"rotating_angle（degree）：\"))\n",
    "thickness_input = float(input(\"thickness (mm)：\"))\n",
    "slices_input = float(input(\"slices：\"))\n",
    "gap_input = float(input(\"gap (mm)：\"))\n",
    "flow_input = float(input(\"flow (L/min)：\"))\n",
    "\n",
    "type_input = (type_input - data_mean[0])/data_std[0]\n",
    "inlet_angle_input = (inlet_angle_input - data_mean[1])/data_std[1]\n",
    "outlet_angle_input = (outlet_angle_input - data_mean[2])/data_std[2]\n",
    "rotating_angle_input =(rotating_angle_input - data_mean[3])/data_std[3]\n",
    "thickness_input = (thickness_input - data_mean[4])/data_std[4]\n",
    "slices_input = (slices_input - data_mean[5])/data_std[5]\n",
    "gap_input = (gap_input - data_mean[6])/data_std[6]\n",
    "flow_input = (flow_input - data_mean[7])/data_std[7]\n",
    "\n",
    "predicted_values = model.predict(np.array([[type_input,inlet_angle_input,outlet_angle_input,rotating_angle_input,thickness_input,slices_input,gap_input,flow_input]]))[0]\n",
    "predict_range = predicted_values[0] \n",
    "predict_power = predicted_values[1] \n",
    "\n",
    "predict_range = predict_range * value_std[0] + value_mean[0]\n",
    "predict_power = predict_power * value_std[1] + value_mean[1]\n",
    "\n",
    "\n",
    "print('(1)predict_range(m): ', predict_range)\n",
    "print('(2)predict_power(w): ', predict_power)"
   ]
  },
  {
   "cell_type": "code",
   "execution_count": null,
   "id": "bfc83f6d-f90e-416a-9de3-0eaba34d7028",
   "metadata": {},
   "outputs": [],
   "source": []
  }
 ],
 "metadata": {
  "kernelspec": {
   "display_name": "Python 3 (ipykernel)",
   "language": "python",
   "name": "python3"
  },
  "language_info": {
   "codemirror_mode": {
    "name": "ipython",
    "version": 3
   },
   "file_extension": ".py",
   "mimetype": "text/x-python",
   "name": "python",
   "nbconvert_exporter": "python",
   "pygments_lexer": "ipython3",
   "version": "3.9.18"
  }
 },
 "nbformat": 4,
 "nbformat_minor": 5
}
